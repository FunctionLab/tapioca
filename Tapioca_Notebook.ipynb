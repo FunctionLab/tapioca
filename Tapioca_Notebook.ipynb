{
 "cells": [
  {
   "cell_type": "code",
   "execution_count": 4,
   "id": "422adea7",
   "metadata": {},
   "outputs": [],
   "source": [
    "import tapioca as tp"
   ]
  },
  {
   "cell_type": "code",
   "execution_count": 7,
   "id": "3a340069",
   "metadata": {},
   "outputs": [],
   "source": [
    "\"\"\"\n",
    "*************************************************************************************\n",
    "To run Tapioca on your data, you will need to adjust the parameters within this section\n",
    "to make them appropriate for your specific experiment\n",
    "\"\"\"\n",
    "\n",
    "\"\"\"\n",
    "Here list the name of your input csv file. Be sure to include .csv at the end of the file name.\n",
    "If your file is not normalized then it should go in the 'raw_input' folder. If it is pre normalized\n",
    "it should be placed in the 'normalized_input' folder\n",
    "\"\"\"\n",
    "input_file = 'example.csv'\n",
    "\n",
    "\"\"\"\n",
    "If you have a reference channel, then set this to true so that it will be used in normalization\n",
    "\"\"\"\n",
    "ref_channel = True\n",
    "\n",
    "\"\"\"\n",
    "If your data is already normalized and in the correct format (see example file in normalized folder)\n",
    "then you should set this to True. If you are using prenormalized data, make sure to place it in \n",
    "the 'normalized_input' folder\n",
    "\"\"\"\n",
    "pre_normalized = False\n",
    "\n",
    "\"\"\"\n",
    "If you are using co-fractionation data, set this variable to True. We recommend normalizing your\n",
    "co-fractionation data yourself before putting it into Tapioca\n",
    "\"\"\"\n",
    "co_fractionation = False\n",
    "\n",
    "\"\"\"\n",
    "Here, list the names of the conditions used as they appear in the csv file you are running on.\n",
    "For example, if you wrote 'ctrl' in your csv file, then you need to put 'ctrl', not 'Ctrl',\n",
    "in this list.\n",
    "\"\"\"\n",
    "conditions = ['0']\n",
    "\n",
    "\"\"\"\n",
    "Here, list the names of the replicates. As with conditions, this should exactly match the\n",
    "names used in the csv file.\n",
    "\"\"\"\n",
    "replicates = ['1']\n",
    "\n",
    "\"\"\"\n",
    "Here you can choose to use the full model, or the base model. To use the base model set this variable to False.\n",
    "If you choose to use the full model, you can choose to use or not use the tissue specific functional networks in\n",
    "the next step.\n",
    "\"\"\"\n",
    "full_model = True\n",
    "\n",
    "\"\"\"\n",
    "Here list the address of the tissue functional network that you'd like to use. A full list\n",
    "of tissue-specific functional networks can be found and downloaded at: https://hb.flatironinstitute.org/download\n",
    "If you download a new functional network, be sure to place it in the 'tissue_functional_network'\n",
    "folder. If you would like to not include a tissue specific functional network, set the variable\n",
    "to ''\n",
    "\"\"\"\n",
    "tissue = 'global_top.gz'\n",
    "# How to not use a tissue specific functional network\n",
    "# tissue = ''\n",
    "\n",
    "\"\"\"\n",
    "List the base save name you would like to use. This will be combined with the condition and replicate\n",
    "names to create the file name for the output (Tapioca predictions) file.\n",
    "For example a base name of 'tapioca_predictions' with condition 'ctrl' and replicate \n",
    "'replicate_1' will result in a file name of 'tapioca_predictions_ctrl_replicate_1'.\n",
    "\"\"\"\n",
    "base_save_name = 'example_predictions'\n"
   ]
  },
  {
   "cell_type": "code",
   "execution_count": 6,
   "id": "a3ebee49",
   "metadata": {},
   "outputs": [
    {
     "name": "stdout",
     "output_type": "stream",
     "text": [
      "Batch: 1/4\n",
      "Batch: 2/4\n",
      "Batch: 3/4\n",
      "Batch: 4/4\n"
     ]
    }
   ],
   "source": [
    "\"\"\"\n",
    "Tapioca is executed when this file is run. Before running Tapioca, go to the config.py\n",
    "file to set the input file and other parameters\n",
    "\"\"\"\n",
    "tp.run_tapioca(\n",
    "input_file = input_file,\n",
    "ref_channel = ref_channel,\n",
    "pre_normalized = pre_normalized,\n",
    "co_fractionation = co_fractionation,\n",
    "conditions = conditions,\n",
    "replicates = replicates,\n",
    "tissue = tissue,\n",
    "base_save_name = base_save_name,\n",
    "full_model = full_model\n",
    ")"
   ]
  }
 ],
 "metadata": {
  "kernelspec": {
   "display_name": "Python 3 (ipykernel)",
   "language": "python",
   "name": "python3"
  },
  "language_info": {
   "codemirror_mode": {
    "name": "ipython",
    "version": 3
   },
   "file_extension": ".py",
   "mimetype": "text/x-python",
   "name": "python",
   "nbconvert_exporter": "python",
   "pygments_lexer": "ipython3",
   "version": "3.9.16"
  }
 },
 "nbformat": 4,
 "nbformat_minor": 5
}
